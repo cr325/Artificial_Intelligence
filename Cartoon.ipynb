{
 "cells": [
  {
   "cell_type": "code",
   "execution_count": 1,
   "metadata": {},
   "outputs": [
    {
     "ename": "ModuleNotFoundError",
     "evalue": "No module named 'easygui'",
     "output_type": "error",
     "traceback": [
      "\u001b[1;31m---------------------------------------------------------------------------\u001b[0m",
      "\u001b[1;31mModuleNotFoundError\u001b[0m                       Traceback (most recent call last)",
      "\u001b[1;32m<ipython-input-1-29b7b3d02a55>\u001b[0m in \u001b[0;36m<module>\u001b[1;34m\u001b[0m\n\u001b[0;32m      1\u001b[0m \u001b[1;32mimport\u001b[0m \u001b[0mcv2\u001b[0m\u001b[1;33m\u001b[0m\u001b[1;33m\u001b[0m\u001b[0m\n\u001b[1;32m----> 2\u001b[1;33m \u001b[1;32mimport\u001b[0m \u001b[0measygui\u001b[0m\u001b[1;33m\u001b[0m\u001b[1;33m\u001b[0m\u001b[0m\n\u001b[0m\u001b[0;32m      3\u001b[0m \u001b[1;32mimport\u001b[0m \u001b[0mnumpy\u001b[0m \u001b[1;32mas\u001b[0m \u001b[0mnp\u001b[0m\u001b[1;33m\u001b[0m\u001b[1;33m\u001b[0m\u001b[0m\n\u001b[0;32m      4\u001b[0m \u001b[1;32mimport\u001b[0m \u001b[0mimageio\u001b[0m\u001b[1;33m\u001b[0m\u001b[1;33m\u001b[0m\u001b[0m\n\u001b[0;32m      5\u001b[0m \u001b[1;32mimport\u001b[0m \u001b[0msys\u001b[0m\u001b[1;33m\u001b[0m\u001b[1;33m\u001b[0m\u001b[0m\n",
      "\u001b[1;31mModuleNotFoundError\u001b[0m: No module named 'easygui'"
     ]
    }
   ],
   "source": [
    "import cv2\n",
    "import easygui\n",
    "import numpy as np\n",
    "import imageio\n",
    "import sys\n",
    "import matplotlib.pyplot as plt\n",
    "import os\n",
    "import tkinter as tk\n",
    "from tkinter import filedialog\n",
    "from tkinter import *\n",
    "from PIL import ImageTk, Image\n",
    "\n",
    "def upload():\n",
    "  ImagePath=easygui.fileopenbox()\n",
    "  cartoonify(ImagePath)\n",
    "\n",
    "def cartoonify(ImagePath):\n",
    " originalmage = cv2.cvtColor(ImagePath, cv2.COLOR_BGR2RGB)\n",
    " if originalmage is None:\n",
    "  print(\"Can not find any image. Choose appropriate file\")\n",
    "  sys.exit()\n",
    " return cv2.resize(originalmage, (960, 540))\n",
    "\n",
    "originalmage = cv2.imread('E:/Idrees/1.png')\n",
    "\n",
    "ReSized1 = cartoonify(originalmage)\n",
    "\n",
    "grayScaleImage = cv2.cvtColor(originalmage, cv2.COLOR_BGR2GRAY)\n",
    "ReSized2 = cv2.resize(grayScaleImage, (960, 540))\n",
    "\n",
    "smoothGrayScale = cv2.medianBlur(grayScaleImage, 5)\n",
    "ReSized3 = cv2.resize(smoothGrayScale, (960, 540))\n",
    "\n",
    "getEdge = cv2.adaptiveThreshold(smoothGrayScale, 255, cv2.ADAPTIVE_THRESH_MEAN_C, cv2.THRESH_BINARY, 9, 9)\n",
    "ReSized4 = cv2.resize(getEdge, (960, 540))\n",
    "\n",
    "\n",
    "colorImage = cv2.bilateralFilter(originalmage, 9, 300, 300)\n",
    "ReSized5 = cv2.resize(colorImage, (960, 540))\n",
    "\n",
    "cartoonImage = cv2.bitwise_and(colorImage, colorImage, mask=getEdge)\n",
    "ReSized6 = cv2.resize(cartoonImage, (960, 540))\n",
    "\n",
    "images=[ReSized1, ReSized2, ReSized3, ReSized4, ReSized5, ReSized6]\n",
    "fig, axes = plt.subplots(3,2, figsize=(8,8), subplot_kw={'xticks':[], 'yticks':[]}, gridspec_kw=dict(hspace=0.1, wspace=0.1))\n",
    "for i, ax in enumerate(axes.flat):\n",
    "    ax.imshow(images[i], cmap='gray')\n",
    "plt.show()"
   ]
  },
  {
   "cell_type": "code",
   "execution_count": null,
   "metadata": {},
   "outputs": [],
   "source": []
  }
 ],
 "metadata": {
  "kernelspec": {
   "display_name": "Python 3",
   "language": "python",
   "name": "python3"
  },
  "language_info": {
   "codemirror_mode": {
    "name": "ipython",
    "version": 3
   },
   "file_extension": ".py",
   "mimetype": "text/x-python",
   "name": "python",
   "nbconvert_exporter": "python",
   "pygments_lexer": "ipython3",
   "version": "3.7.3"
  }
 },
 "nbformat": 4,
 "nbformat_minor": 2
}
